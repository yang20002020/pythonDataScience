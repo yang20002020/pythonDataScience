{
 "cells": [
  {
   "cell_type": "code",
   "execution_count": 3,
   "id": "91c46b16",
   "metadata": {},
   "outputs": [
    {
     "data": {
      "text/plain": [
       "array([[5, 8, 5, 8, 7],\n",
       "       [6, 7, 7, 6, 6],\n",
       "       [8, 7, 7, 9, 7]])"
      ]
     },
     "execution_count": 3,
     "metadata": {},
     "output_type": "execute_result"
    }
   ],
   "source": [
    "import numpy as np\n",
    "part1 = np.random.randint(5,10, (3,5)) # 3行5列 不包括右端点10\n",
    "part1"
   ]
  },
  {
   "cell_type": "code",
   "execution_count": 4,
   "id": "e2865eeb",
   "metadata": {},
   "outputs": [
    {
     "data": {
      "text/plain": [
       "array([[0.38016815, 0.98098902, 0.04405316, 0.12283967, 0.24266553],\n",
       "       [0.82653179, 0.67641544, 0.05297695, 0.94442232, 0.83828717],\n",
       "       [0.12248493, 0.98711011, 0.93325033, 0.60253552, 0.57435007]])"
      ]
     },
     "execution_count": 4,
     "metadata": {},
     "output_type": "execute_result"
    }
   ],
   "source": [
    "part2 = np.random.rand(3,5) # 3行5列  随机数\n",
    "part2"
   ]
  },
  {
   "cell_type": "code",
   "execution_count": 5,
   "id": "6eae657a",
   "metadata": {},
   "outputs": [
    {
     "data": {
      "text/plain": [
       "array([[5.38016815, 8.98098902, 5.04405316, 8.12283967, 7.24266553],\n",
       "       [6.82653179, 7.67641544, 7.05297695, 6.94442232, 6.83828717],\n",
       "       [8.12248493, 7.98711011, 7.93325033, 9.60253552, 7.57435007]])"
      ]
     },
     "execution_count": 5,
     "metadata": {},
     "output_type": "execute_result"
    }
   ],
   "source": [
    "part1 + part2"
   ]
  }
 ],
 "metadata": {
  "kernelspec": {
   "display_name": "Python 3",
   "language": "python",
   "name": "python3"
  },
  "language_info": {
   "codemirror_mode": {
    "name": "ipython",
    "version": 3
   },
   "file_extension": ".py",
   "mimetype": "text/x-python",
   "name": "python",
   "nbconvert_exporter": "python",
   "pygments_lexer": "ipython3",
   "version": "3.8.8"
  }
 },
 "nbformat": 4,
 "nbformat_minor": 5
}
