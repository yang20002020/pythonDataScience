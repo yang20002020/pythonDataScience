{
 "cells": [
  {
   "cell_type": "code",
   "execution_count": 1,
   "id": "177e9e07",
   "metadata": {},
   "outputs": [
    {
     "data": {
      "text/plain": [
       "山东    1.1\n",
       "北京    1.2\n",
       "dtype: float64"
      ]
     },
     "execution_count": 1,
     "metadata": {},
     "output_type": "execute_result"
    }
   ],
   "source": [
    "import pandas as pd\n",
    "s1=pd.Series({'山东':1.1,'北京':1.2})  # series可以理解为键值对字典\n",
    "s1"
   ]
  },
  {
   "cell_type": "code",
   "execution_count": 2,
   "id": "cd015750",
   "metadata": {},
   "outputs": [
    {
     "data": {
      "text/plain": [
       "{'山东': 1.1, '北京': 1.2}"
      ]
     },
     "execution_count": 2,
     "metadata": {},
     "output_type": "execute_result"
    }
   ],
   "source": [
    "d1={'山东':1.1,'北京':1.2}\n",
    "d1"
   ]
  },
  {
   "cell_type": "code",
   "execution_count": 3,
   "id": "38dfed21",
   "metadata": {},
   "outputs": [
    {
     "data": {
      "text/plain": [
       "{'山东': 1.1, '北京': 1.2, '山西': 0.7}"
      ]
     },
     "execution_count": 3,
     "metadata": {},
     "output_type": "execute_result"
    }
   ],
   "source": [
    "d1.update({'山西':0.7})\n",
    "d1"
   ]
  },
  {
   "cell_type": "code",
   "execution_count": 7,
   "id": "89442834",
   "metadata": {},
   "outputs": [
    {
     "data": {
      "text/plain": [
       "山东    1.1\n",
       "北京    1.2\n",
       "山西    0.7\n",
       "dtype: float64"
      ]
     },
     "execution_count": 7,
     "metadata": {},
     "output_type": "execute_result"
    }
   ],
   "source": [
    "s2=s1.append(pd.Series({'山西':0.7})) # 产生新的\n",
    "s2"
   ]
  },
  {
   "cell_type": "code",
   "execution_count": 6,
   "id": "dcedf51b",
   "metadata": {},
   "outputs": [
    {
     "data": {
      "text/plain": [
       "山东    1.1\n",
       "北京    1.2\n",
       "dtype: float64"
      ]
     },
     "execution_count": 6,
     "metadata": {},
     "output_type": "execute_result"
    }
   ],
   "source": [
    "s1   # s1 并没有添加新的键值对"
   ]
  },
  {
   "cell_type": "code",
   "execution_count": 8,
   "id": "ef0fd323",
   "metadata": {},
   "outputs": [
    {
     "data": {
      "text/plain": [
       "0.7"
      ]
     },
     "execution_count": 8,
     "metadata": {},
     "output_type": "execute_result"
    }
   ],
   "source": [
    "s2['山西']"
   ]
  },
  {
   "cell_type": "code",
   "execution_count": 10,
   "id": "4e2638b6",
   "metadata": {},
   "outputs": [
    {
     "data": {
      "text/plain": [
       "山东    1.1\n",
       "北京    1.2\n",
       "山西    0.7\n",
       "陕西    1.9\n",
       "天津    1.3\n",
       "dtype: float64"
      ]
     },
     "execution_count": 10,
     "metadata": {},
     "output_type": "execute_result"
    }
   ],
   "source": [
    "new_series=pd.Series({'陕西':1.9,'天津':1.3})\n",
    "s3=s2.append(new_series)\n",
    "s3"
   ]
  },
  {
   "cell_type": "code",
   "execution_count": null,
   "id": "2c5c1fbc",
   "metadata": {},
   "outputs": [],
   "source": []
  }
 ],
 "metadata": {
  "kernelspec": {
   "display_name": "Python 3 (ipykernel)",
   "language": "python",
   "name": "python3"
  },
  "language_info": {
   "codemirror_mode": {
    "name": "ipython",
    "version": 3
   },
   "file_extension": ".py",
   "mimetype": "text/x-python",
   "name": "python",
   "nbconvert_exporter": "python",
   "pygments_lexer": "ipython3",
   "version": "3.7.16"
  }
 },
 "nbformat": 4,
 "nbformat_minor": 5
}
