{
 "cells": [
  {
   "cell_type": "code",
   "execution_count": 4,
   "id": "1989814c",
   "metadata": {},
   "outputs": [
    {
     "data": {
      "text/plain": [
       "{'山东': 1.1, '北京': 1.2}"
      ]
     },
     "execution_count": 4,
     "metadata": {},
     "output_type": "execute_result"
    }
   ],
   "source": [
    "import numpy as np\n",
    "d1={'山东':1.1,'北京':1.2}\n",
    "d1"
   ]
  },
  {
   "cell_type": "code",
   "execution_count": 5,
   "id": "bf991928",
   "metadata": {},
   "outputs": [
    {
     "data": {
      "text/plain": [
       "{'山东': 1.12, '北京': 1.2}"
      ]
     },
     "execution_count": 5,
     "metadata": {},
     "output_type": "execute_result"
    }
   ],
   "source": [
    "d1['山东']=1.12\n",
    "d1"
   ]
  },
  {
   "cell_type": "code",
   "execution_count": 7,
   "id": "0f874ea5",
   "metadata": {},
   "outputs": [
    {
     "data": {
      "text/plain": [
       "山东    1.12\n",
       "北京    1.20\n",
       "dtype: float64"
      ]
     },
     "execution_count": 7,
     "metadata": {},
     "output_type": "execute_result"
    }
   ],
   "source": [
    "import pandas as pd\n",
    "s1=pd.Series(d1)\n",
    "s1"
   ]
  },
  {
   "cell_type": "code",
   "execution_count": 8,
   "id": "ef1e01ae",
   "metadata": {},
   "outputs": [
    {
     "data": {
      "text/plain": [
       "山东    2.9\n",
       "北京    1.2\n",
       "dtype: float64"
      ]
     },
     "execution_count": 8,
     "metadata": {},
     "output_type": "execute_result"
    }
   ],
   "source": [
    "s1['山东']=2.9  # 访问\n",
    "s1"
   ]
  },
  {
   "cell_type": "code",
   "execution_count": 9,
   "id": "ec9a2dbc",
   "metadata": {},
   "outputs": [
    {
     "data": {
      "text/plain": [
       "2.9"
      ]
     },
     "execution_count": 9,
     "metadata": {},
     "output_type": "execute_result"
    }
   ],
   "source": [
    "# 整数索引 ：0,1,2,3...\n",
    "# 标签索引：'山东'、‘北京’\n",
    "s1[0]"
   ]
  },
  {
   "cell_type": "code",
   "execution_count": 10,
   "id": "55b6492b",
   "metadata": {},
   "outputs": [
    {
     "data": {
      "text/plain": [
       "2.9"
      ]
     },
     "execution_count": 10,
     "metadata": {},
     "output_type": "execute_result"
    }
   ],
   "source": [
    "s1['山东']"
   ]
  },
  {
   "cell_type": "code",
   "execution_count": null,
   "id": "ba2c270d",
   "metadata": {},
   "outputs": [],
   "source": []
  }
 ],
 "metadata": {
  "kernelspec": {
   "display_name": "Python 3",
   "language": "python",
   "name": "python3"
  },
  "language_info": {
   "codemirror_mode": {
    "name": "ipython",
    "version": 3
   },
   "file_extension": ".py",
   "mimetype": "text/x-python",
   "name": "python",
   "nbconvert_exporter": "python",
   "pygments_lexer": "ipython3",
   "version": "3.8.8"
  }
 },
 "nbformat": 4,
 "nbformat_minor": 5
}
