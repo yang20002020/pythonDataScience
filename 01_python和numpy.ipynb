{
 "cells": [
  {
   "cell_type": "code",
   "execution_count": 3,
   "id": "83cadcd8",
   "metadata": {},
   "outputs": [],
   "source": [
    "a=list(range(int(10e6)))"
   ]
  },
  {
   "cell_type": "code",
   "execution_count": 4,
   "id": "6e775b57",
   "metadata": {},
   "outputs": [
    {
     "name": "stdout",
     "output_type": "stream",
     "text": [
      "Wall time: 773 ms\n"
     ]
    }
   ],
   "source": [
    "%time a2=[i*2 for i in a]"
   ]
  },
  {
   "cell_type": "code",
   "execution_count": 15,
   "id": "26e68bdd",
   "metadata": {},
   "outputs": [
    {
     "name": "stdout",
     "output_type": "stream",
     "text": [
      "Wall time: 20.9 ms\n"
     ]
    }
   ],
   "source": [
    "import numpy as np\n",
    "na=np.array(range(int(10e6)))\n",
    "%time na2=na*2"
   ]
  },
  {
   "cell_type": "code",
   "execution_count": null,
   "id": "68dbfece",
   "metadata": {},
   "outputs": [],
   "source": []
  }
 ],
 "metadata": {
  "kernelspec": {
   "display_name": "Python 3",
   "language": "python",
   "name": "python3"
  },
  "language_info": {
   "codemirror_mode": {
    "name": "ipython",
    "version": 3
   },
   "file_extension": ".py",
   "mimetype": "text/x-python",
   "name": "python",
   "nbconvert_exporter": "python",
   "pygments_lexer": "ipython3",
   "version": "3.8.8"
  }
 },
 "nbformat": 4,
 "nbformat_minor": 5
}
