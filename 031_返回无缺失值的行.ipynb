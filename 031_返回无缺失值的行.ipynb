{
 "cells": [
  {
   "cell_type": "code",
   "execution_count": 1,
   "id": "9b63a9ef",
   "metadata": {},
   "outputs": [
    {
     "data": {
      "text/plain": [
       "array([[ 0., nan,  2.,  3.],\n",
       "       [ 4.,  5., nan,  7.],\n",
       "       [ 8.,  9., 10., 11.],\n",
       "       [12., 13., nan, 15.],\n",
       "       [16., 17., nan, 19.],\n",
       "       [20., 21., 22., 23.]])"
      ]
     },
     "execution_count": 1,
     "metadata": {},
     "output_type": "execute_result"
    }
   ],
   "source": [
    "import numpy as np\n",
    "arr = np.array([[ 0., np.nan, 2., 3.],\n",
    " [ 4., 5., np.nan, 7.],\n",
    " [ 8., 9., 10., 11.],\n",
    " [12., 13., np.nan, 15.],\n",
    " [16., 17., np.nan, 19.],\n",
    " [20., 21., 22., 23.]])\n",
    "arr"
   ]
  },
  {
   "cell_type": "code",
   "execution_count": 2,
   "id": "9b8ee61a",
   "metadata": {},
   "outputs": [
    {
     "data": {
      "text/plain": [
       "array([[False,  True, False, False],\n",
       "       [False, False,  True, False],\n",
       "       [False, False, False, False],\n",
       "       [False, False,  True, False],\n",
       "       [False, False,  True, False],\n",
       "       [False, False, False, False]])"
      ]
     },
     "execution_count": 2,
     "metadata": {},
     "output_type": "execute_result"
    }
   ],
   "source": [
    "masked=np.isnan(arr,)\n",
    "masked"
   ]
  },
  {
   "cell_type": "code",
   "execution_count": 3,
   "id": "2354cd1e",
   "metadata": {},
   "outputs": [
    {
     "data": {
      "text/plain": [
       "array([1, 1, 0, 1, 1, 0])"
      ]
     },
     "execution_count": 3,
     "metadata": {},
     "output_type": "execute_result"
    }
   ],
   "source": [
    "np.sum(masked,axis=1) #  行"
   ]
  },
  {
   "cell_type": "code",
   "execution_count": 4,
   "id": "b2e82f54",
   "metadata": {},
   "outputs": [
    {
     "data": {
      "text/plain": [
       "array([False, False,  True, False, False,  True])"
      ]
     },
     "execution_count": 4,
     "metadata": {},
     "output_type": "execute_result"
    }
   ],
   "source": [
    "masked2 = np.sum(masked, axis=1) == 0\n",
    "masked2"
   ]
  },
  {
   "cell_type": "code",
   "execution_count": 5,
   "id": "58b94610",
   "metadata": {},
   "outputs": [
    {
     "data": {
      "text/plain": [
       "array([[ 8.,  9., 10., 11.],\n",
       "       [20., 21., 22., 23.]])"
      ]
     },
     "execution_count": 5,
     "metadata": {},
     "output_type": "execute_result"
    }
   ],
   "source": [
    "arr[masked2,:]   #提取无缺失值的行"
   ]
  },
  {
   "cell_type": "code",
   "execution_count": 6,
   "id": "8b759f58",
   "metadata": {},
   "outputs": [
    {
     "data": {
      "text/plain": [
       "array([[ 8.,  9., 10., 11.],\n",
       "       [20., 21., 22., 23.]])"
      ]
     },
     "execution_count": 6,
     "metadata": {},
     "output_type": "execute_result"
    }
   ],
   "source": [
    "#  上述的方法可以简写为\n",
    "m = np.sum(np.isnan(arr), axis=1) == 0\n",
    "arr[m]  "
   ]
  },
  {
   "cell_type": "code",
   "execution_count": 7,
   "id": "f2b52851",
   "metadata": {},
   "outputs": [
    {
     "data": {
      "text/plain": [
       "array([[ 0., nan,  2.,  3.],\n",
       "       [ 4.,  5., nan,  7.],\n",
       "       [12., 13., nan, 15.],\n",
       "       [16., 17., nan, 19.]])"
      ]
     },
     "execution_count": 7,
     "metadata": {},
     "output_type": "execute_result"
    }
   ],
   "source": [
    "m = np.sum(np.isnan(arr), axis=1)> 0  #  同理 有缺失值的行\n",
    "arr[m] "
   ]
  },
  {
   "cell_type": "code",
   "execution_count": null,
   "id": "9624c67a",
   "metadata": {},
   "outputs": [],
   "source": []
  }
 ],
 "metadata": {
  "kernelspec": {
   "display_name": "Python 3",
   "language": "python",
   "name": "python3"
  },
  "language_info": {
   "codemirror_mode": {
    "name": "ipython",
    "version": 3
   },
   "file_extension": ".py",
   "mimetype": "text/x-python",
   "name": "python",
   "nbconvert_exporter": "python",
   "pygments_lexer": "ipython3",
   "version": "3.8.8"
  }
 },
 "nbformat": 4,
 "nbformat_minor": 5
}
