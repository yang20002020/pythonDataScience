{
 "cells": [
  {
   "cell_type": "code",
   "execution_count": 1,
   "id": "b9bfe534",
   "metadata": {},
   "outputs": [
    {
     "data": {
      "text/plain": [
       "array([[2, 5, 6],\n",
       "       [2, 5, 6]])"
      ]
     },
     "execution_count": 1,
     "metadata": {},
     "output_type": "execute_result"
    }
   ],
   "source": [
    "import numpy as np\n",
    "arr1=np.random.randint(1,10,(2,3))\n",
    "arr1"
   ]
  },
  {
   "cell_type": "code",
   "execution_count": 2,
   "id": "f89040fe",
   "metadata": {},
   "outputs": [
    {
     "data": {
      "text/plain": [
       "array([[3, 5, 9],\n",
       "       [8, 9, 9],\n",
       "       [9, 3, 5]])"
      ]
     },
     "execution_count": 2,
     "metadata": {},
     "output_type": "execute_result"
    }
   ],
   "source": [
    "arr2=np.random.randint(1,10,(3,3))\n",
    "arr2"
   ]
  },
  {
   "cell_type": "code",
   "execution_count": 4,
   "id": "220b7e2b",
   "metadata": {},
   "outputs": [
    {
     "data": {
      "text/plain": [
       "array([[2, 5, 6],\n",
       "       [2, 5, 6],\n",
       "       [3, 5, 9],\n",
       "       [8, 9, 9],\n",
       "       [9, 3, 5]])"
      ]
     },
     "execution_count": 4,
     "metadata": {},
     "output_type": "execute_result"
    }
   ],
   "source": [
    "np.vstack((arr1,arr2))  # 合并成五行三列  竖向合并"
   ]
  },
  {
   "cell_type": "code",
   "execution_count": 7,
   "id": "0ee6882b",
   "metadata": {},
   "outputs": [
    {
     "data": {
      "text/plain": [
       "array([[2, 5, 6, 3, 5, 9],\n",
       "       [2, 5, 6, 8, 9, 9]])"
      ]
     },
     "execution_count": 7,
     "metadata": {},
     "output_type": "execute_result"
    }
   ],
   "source": [
    "np.hstack((arr1,arr2[:2,:])) # 合并第二个模块的0到1行  横向合并"
   ]
  },
  {
   "cell_type": "code",
   "execution_count": 8,
   "id": "02c29a1f",
   "metadata": {},
   "outputs": [
    {
     "data": {
      "text/plain": [
       "array([[2, 5, 6],\n",
       "       [2, 5, 6],\n",
       "       [3, 5, 9],\n",
       "       [8, 9, 9],\n",
       "       [9, 3, 5]])"
      ]
     },
     "execution_count": 8,
     "metadata": {},
     "output_type": "execute_result"
    }
   ],
   "source": [
    "np.concatenate((arr1,arr2))  # 竖向合并"
   ]
  },
  {
   "cell_type": "code",
   "execution_count": 9,
   "id": "9e8fc171",
   "metadata": {},
   "outputs": [
    {
     "data": {
      "text/plain": [
       "array([[2, 5, 6, 3, 5, 9],\n",
       "       [2, 5, 6, 8, 9, 9]])"
      ]
     },
     "execution_count": 9,
     "metadata": {},
     "output_type": "execute_result"
    }
   ],
   "source": [
    "np.concatenate((arr1,arr2[:2,:]),axis=1)  # axis=1 水平方向"
   ]
  },
  {
   "cell_type": "code",
   "execution_count": 10,
   "id": "949bc131",
   "metadata": {},
   "outputs": [
    {
     "data": {
      "text/plain": [
       "array([[2, 5, 6],\n",
       "       [2, 5, 6],\n",
       "       [3, 5, 9],\n",
       "       [8, 9, 9],\n",
       "       [9, 3, 5]])"
      ]
     },
     "execution_count": 10,
     "metadata": {},
     "output_type": "execute_result"
    }
   ],
   "source": [
    "np.r_[arr1,arr2]    #竖向合并"
   ]
  },
  {
   "cell_type": "code",
   "execution_count": 11,
   "id": "1f866e07",
   "metadata": {},
   "outputs": [
    {
     "data": {
      "text/plain": [
       "array([[2, 5, 6, 3, 5, 9],\n",
       "       [2, 5, 6, 8, 9, 9]])"
      ]
     },
     "execution_count": 11,
     "metadata": {},
     "output_type": "execute_result"
    }
   ],
   "source": [
    "np.c_[arr1,arr2[:2,:]]  # 横向合并"
   ]
  },
  {
   "cell_type": "code",
   "execution_count": null,
   "id": "39363ac8",
   "metadata": {},
   "outputs": [],
   "source": []
  }
 ],
 "metadata": {
  "kernelspec": {
   "display_name": "Python 3",
   "language": "python",
   "name": "python3"
  },
  "language_info": {
   "codemirror_mode": {
    "name": "ipython",
    "version": 3
   },
   "file_extension": ".py",
   "mimetype": "text/x-python",
   "name": "python",
   "nbconvert_exporter": "python",
   "pygments_lexer": "ipython3",
   "version": "3.8.8"
  }
 },
 "nbformat": 4,
 "nbformat_minor": 5
}
