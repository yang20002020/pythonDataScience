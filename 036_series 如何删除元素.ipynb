{
 "cells": [
  {
   "cell_type": "code",
   "execution_count": 1,
   "id": "309ea8ca",
   "metadata": {},
   "outputs": [
    {
     "data": {
      "text/plain": [
       "{'山东': 1.1, '北京': 1.2}"
      ]
     },
     "execution_count": 1,
     "metadata": {},
     "output_type": "execute_result"
    }
   ],
   "source": [
    "import pandas as pd\n",
    "d1={'山东':1.1,'北京':1.2}  # 字典\n",
    "d1"
   ]
  },
  {
   "cell_type": "code",
   "execution_count": 3,
   "id": "b0d6756b",
   "metadata": {},
   "outputs": [
    {
     "data": {
      "text/plain": [
       "1.1"
      ]
     },
     "execution_count": 3,
     "metadata": {},
     "output_type": "execute_result"
    }
   ],
   "source": [
    "d1.pop('山东')"
   ]
  },
  {
   "cell_type": "code",
   "execution_count": 4,
   "id": "4569fd6d",
   "metadata": {},
   "outputs": [
    {
     "data": {
      "text/plain": [
       "北京    1.2\n",
       "dtype: float64"
      ]
     },
     "execution_count": 4,
     "metadata": {},
     "output_type": "execute_result"
    }
   ],
   "source": [
    "s1=pd.Series(d1)\n",
    "s1"
   ]
  },
  {
   "cell_type": "code",
   "execution_count": 5,
   "id": "55b1180d",
   "metadata": {},
   "outputs": [
    {
     "data": {
      "text/plain": [
       "北京    1.2\n",
       "北京    1.2\n",
       "dtype: float64"
      ]
     },
     "execution_count": 5,
     "metadata": {},
     "output_type": "execute_result"
    }
   ],
   "source": [
    "s2=s1.append(pd.Series({'北京':1.2}))\n",
    "s2"
   ]
  },
  {
   "cell_type": "code",
   "execution_count": 7,
   "id": "9a04e341",
   "metadata": {},
   "outputs": [
    {
     "data": {
      "text/plain": [
       "Series([], dtype: float64)"
      ]
     },
     "execution_count": 7,
     "metadata": {},
     "output_type": "execute_result"
    }
   ],
   "source": [
    "s3=s2.drop('北京')\n",
    "s3"
   ]
  },
  {
   "cell_type": "code",
   "execution_count": 8,
   "id": "61c2a39b",
   "metadata": {},
   "outputs": [
    {
     "data": {
      "text/plain": [
       "北京    1.2\n",
       "北京    1.2\n",
       "dtype: float64"
      ]
     },
     "execution_count": 8,
     "metadata": {},
     "output_type": "execute_result"
    }
   ],
   "source": [
    "s2"
   ]
  },
  {
   "cell_type": "code",
   "execution_count": 9,
   "id": "fd91e553",
   "metadata": {},
   "outputs": [
    {
     "data": {
      "text/plain": [
       "北京    1.2\n",
       "北京    1.2\n",
       "北京    1.3\n",
       "dtype: float64"
      ]
     },
     "execution_count": 9,
     "metadata": {},
     "output_type": "execute_result"
    }
   ],
   "source": [
    "s4=s2.append(pd.Series({'北京':1.3})) # 可以重名\n",
    "s4"
   ]
  },
  {
   "cell_type": "code",
   "execution_count": 10,
   "id": "c26413dd",
   "metadata": {},
   "outputs": [
    {
     "data": {
      "text/plain": [
       "Series([], dtype: float64)"
      ]
     },
     "execution_count": 10,
     "metadata": {},
     "output_type": "execute_result"
    }
   ],
   "source": [
    "s4.drop('北京')"
   ]
  },
  {
   "cell_type": "code",
   "execution_count": 11,
   "id": "256f5d24",
   "metadata": {},
   "outputs": [
    {
     "data": {
      "text/plain": [
       "北京    1.2\n",
       "北京    1.2\n",
       "北京    1.3\n",
       "dtype: float64"
      ]
     },
     "execution_count": 11,
     "metadata": {},
     "output_type": "execute_result"
    }
   ],
   "source": [
    "s4  # s4本身并没有发生变化"
   ]
  },
  {
   "cell_type": "code",
   "execution_count": 12,
   "id": "a724b285",
   "metadata": {},
   "outputs": [
    {
     "data": {
      "text/plain": [
       "Index(['北京', '北京', '北京'], dtype='object')"
      ]
     },
     "execution_count": 12,
     "metadata": {},
     "output_type": "execute_result"
    }
   ],
   "source": [
    "s4.index"
   ]
  },
  {
   "cell_type": "code",
   "execution_count": 13,
   "id": "be1caed8",
   "metadata": {},
   "outputs": [
    {
     "data": {
      "text/plain": [
       "True"
      ]
     },
     "execution_count": 13,
     "metadata": {},
     "output_type": "execute_result"
    }
   ],
   "source": [
    "'北京' in s4.index"
   ]
  },
  {
   "cell_type": "code",
   "execution_count": null,
   "id": "358c996c",
   "metadata": {},
   "outputs": [],
   "source": []
  },
  {
   "cell_type": "code",
   "execution_count": null,
   "id": "62be59f7",
   "metadata": {},
   "outputs": [],
   "source": []
  }
 ],
 "metadata": {
  "kernelspec": {
   "display_name": "Python 3 (ipykernel)",
   "language": "python",
   "name": "python3"
  },
  "language_info": {
   "codemirror_mode": {
    "name": "ipython",
    "version": 3
   },
   "file_extension": ".py",
   "mimetype": "text/x-python",
   "name": "python",
   "nbconvert_exporter": "python",
   "pygments_lexer": "ipython3",
   "version": "3.7.16"
  }
 },
 "nbformat": 4,
 "nbformat_minor": 5
}
